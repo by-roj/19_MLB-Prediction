{
 "cells": [
  {
   "cell_type": "code",
   "execution_count": 1,
   "metadata": {},
   "outputs": [],
   "source": [
    "import pandas as pd\n",
    "import numpy as np"
   ]
  },
  {
   "cell_type": "markdown",
   "metadata": {},
   "source": [
    "## 2014"
   ]
  },
  {
   "cell_type": "code",
   "execution_count": 2,
   "metadata": {},
   "outputs": [
    {
     "data": {
      "text/plain": [
       "(747, 30)"
      ]
     },
     "execution_count": 2,
     "metadata": {},
     "output_type": "execute_result"
    }
   ],
   "source": [
    "data = pd.read_csv(\"data/stsal_2014.csv\")\n",
    "data.shape"
   ]
  },
  {
   "cell_type": "code",
   "execution_count": 10,
   "metadata": {},
   "outputs": [
    {
     "data": {
      "text/plain": [
       "Name           0\n",
       "Age            1\n",
       "Tm             1\n",
       "Lg             1\n",
       "G              0\n",
       "PA             0\n",
       "AB             0\n",
       "R              0\n",
       "H              0\n",
       "2B             0\n",
       "3B             0\n",
       "HR             0\n",
       "RBI            0\n",
       "SB             0\n",
       "CS             0\n",
       "BB             0\n",
       "SO             0\n",
       "BA             5\n",
       "OBP            4\n",
       "SLG            5\n",
       "OPS            5\n",
       "OPS+           6\n",
       "TB             0\n",
       "GDP            0\n",
       "HBP            0\n",
       "SH             0\n",
       "SF             0\n",
       "IBB            0\n",
       "Pos Summary    8\n",
       "Salary         0\n",
       "dtype: int64"
      ]
     },
     "execution_count": 10,
     "metadata": {},
     "output_type": "execute_result"
    }
   ],
   "source": [
    "data.isnull().sum()"
   ]
  },
  {
   "cell_type": "code",
   "execution_count": null,
   "metadata": {},
   "outputs": [],
   "source": [
    "data = data[lambda x: x.Salary > 0]\n",
    "data = data.reset_index(drop=True)\n",
    "\n",
    "data.shape"
   ]
  },
  {
   "cell_type": "code",
   "execution_count": null,
   "metadata": {},
   "outputs": [],
   "source": [
    "def g_sum(index):\n",
    "    name = data.iloc[index]['Name']\n",
    "    \n",
    "    sum = data.iloc[index]['G']\n",
    "    \n",
    "    for i in range(index+1, len(data)):\n",
    "        if data.iloc[i]['Name'] == name:\n",
    "            sum += data.iloc[i]['G']\n",
    "            \n",
    "    return sum"
   ]
  },
  {
   "cell_type": "code",
   "execution_count": null,
   "metadata": {},
   "outputs": [],
   "source": [
    "i = 0\n",
    "while i < len(data):\n",
    "    name = data.loc[i,'Name']\n",
    "    gamesum = g_sum(i)\n",
    "    \n",
    "    for j in range(17, 22):\n",
    "        data.iloc[i,j] = data.loc[i,'G'] * data.iloc[i,j]\n",
    "    \n",
    "    k = i + 1\n",
    "    while k < len(data):\n",
    "        if data.loc[k,'Name'] == name:\n",
    "            \n",
    "            if data.loc[k,'Tm'] not in data.loc[i,'Tm']:\n",
    "                data.loc[i,'Tm'] = data.loc[i,'Tm'] + \"/\" + data.loc[k,'Tm']\n",
    "            if data.loc[k,'Lg'] not in data.loc[i,'Lg']:\n",
    "                data.loc[i,'Lg'] = data.loc[i,'Lg'] + \"/\" + data.loc[k,'Lg']\n",
    "            \n",
    "            for l in range(4, 17):\n",
    "                data.iloc[i,l] += data.iloc[k,l]\n",
    "                \n",
    "            for m in range(17, 22):\n",
    "                data.iloc[i,m] += data.loc[k,'G'] * data.iloc[k,m]\n",
    "            \n",
    "            for n in range(22, 28):\n",
    "                data.iloc[i,n] += data.iloc[k,n]\n",
    "                \n",
    "            data.loc[i,'Salary'] += data.loc[k,'Salary']\n",
    "            \n",
    "            data = data.drop(data.index[k]).reset_index(drop=True)\n",
    "        \n",
    "        else:\n",
    "            k += 1\n",
    "            \n",
    "    for o in range(17, 22):\n",
    "        data.iloc[i,o] = data.iloc[i,o] / gamesum\n",
    "    \n",
    "    i += 1"
   ]
  },
  {
   "cell_type": "code",
   "execution_count": null,
   "metadata": {},
   "outputs": [],
   "source": [
    "data.shape"
   ]
  },
  {
   "cell_type": "code",
   "execution_count": null,
   "metadata": {},
   "outputs": [],
   "source": [
    "data.to_csv(\"data_preprocessing/data_preprocessing_2014.csv\")"
   ]
  },
  {
   "cell_type": "markdown",
   "metadata": {},
   "source": [
    "## 2015"
   ]
  },
  {
   "cell_type": "code",
   "execution_count": null,
   "metadata": {},
   "outputs": [],
   "source": [
    "data = pd.read_csv(\"data/stsal_2015.csv\")\n",
    "data.shape"
   ]
  },
  {
   "cell_type": "code",
   "execution_count": null,
   "metadata": {},
   "outputs": [],
   "source": [
    "data = data[lambda x: x.Salary > 0]\n",
    "data = data.reset_index(drop=True)\n",
    "\n",
    "data.shape"
   ]
  },
  {
   "cell_type": "code",
   "execution_count": null,
   "metadata": {},
   "outputs": [],
   "source": [
    "i = 0\n",
    "while i < len(data):\n",
    "    name = data.loc[i,'Name']\n",
    "    gamesum = g_sum(i)\n",
    "    \n",
    "    for j in range(17, 22):\n",
    "        data.iloc[i,j] = data.loc[i,'G'] * data.iloc[i,j]\n",
    "    \n",
    "    k = i + 1\n",
    "    while k < len(data):\n",
    "        if data.loc[k,'Name'] == name:\n",
    "            \n",
    "            if data.loc[k,'Tm'] not in data.loc[i,'Tm']:\n",
    "                data.loc[i,'Tm'] = data.loc[i,'Tm'] + \"/\" + data.loc[k,'Tm']\n",
    "            if data.loc[k,'Lg'] not in data.loc[i,'Lg']:\n",
    "                data.loc[i,'Lg'] = data.loc[i,'Lg'] + \"/\" + data.loc[k,'Lg']\n",
    "            \n",
    "            for l in range(4, 17):\n",
    "                data.iloc[i,l] += data.iloc[k,l]\n",
    "                \n",
    "            for m in range(17, 22):\n",
    "                data.iloc[i,m] += data.loc[k,'G'] * data.iloc[k,m]\n",
    "            \n",
    "            for n in range(22, 28):\n",
    "                data.iloc[i,n] += data.iloc[k,n]\n",
    "                \n",
    "            data.loc[i,'Salary'] += data.loc[k,'Salary']\n",
    "            \n",
    "            data = data.drop(data.index[k]).reset_index(drop=True)\n",
    "        \n",
    "        else:\n",
    "            k += 1\n",
    "            \n",
    "    for o in range(17, 22):\n",
    "        data.iloc[i,o] = data.iloc[i,o] / gamesum\n",
    "    \n",
    "    i += 1"
   ]
  },
  {
   "cell_type": "code",
   "execution_count": null,
   "metadata": {},
   "outputs": [],
   "source": [
    "data"
   ]
  },
  {
   "cell_type": "code",
   "execution_count": null,
   "metadata": {},
   "outputs": [],
   "source": [
    "data.shape"
   ]
  },
  {
   "cell_type": "code",
   "execution_count": null,
   "metadata": {},
   "outputs": [],
   "source": [
    "data.to_csv(\"data_preprocessing/data_preprocessing_2015.csv\")"
   ]
  },
  {
   "cell_type": "markdown",
   "metadata": {},
   "source": [
    "## 2016"
   ]
  },
  {
   "cell_type": "code",
   "execution_count": null,
   "metadata": {},
   "outputs": [],
   "source": [
    "data = pd.read_csv(\"data/stsal_2016.csv\")\n",
    "data.shape"
   ]
  },
  {
   "cell_type": "code",
   "execution_count": null,
   "metadata": {},
   "outputs": [],
   "source": [
    "data = data[lambda x: x.Salary > 0]\n",
    "data = data.reset_index(drop=True)\n",
    "\n",
    "data.shape"
   ]
  },
  {
   "cell_type": "code",
   "execution_count": null,
   "metadata": {},
   "outputs": [],
   "source": [
    "i = 0\n",
    "while i < len(data):\n",
    "    name = data.loc[i,'Name']\n",
    "    gamesum = g_sum(i)\n",
    "    \n",
    "    for j in range(17, 22):\n",
    "        data.iloc[i,j] = data.loc[i,'G'] * data.iloc[i,j]\n",
    "    \n",
    "    k = i + 1\n",
    "    while k < len(data):\n",
    "        if data.loc[k,'Name'] == name:\n",
    "            \n",
    "            if data.loc[k,'Tm'] not in data.loc[i,'Tm']:\n",
    "                data.loc[i,'Tm'] = data.loc[i,'Tm'] + \"/\" + data.loc[k,'Tm']\n",
    "            if data.loc[k,'Lg'] not in data.loc[i,'Lg']:\n",
    "                data.loc[i,'Lg'] = data.loc[i,'Lg'] + \"/\" + data.loc[k,'Lg']\n",
    "            \n",
    "            for l in range(4, 17):\n",
    "                data.iloc[i,l] += data.iloc[k,l]\n",
    "                \n",
    "            for m in range(17, 22):\n",
    "                data.iloc[i,m] += data.loc[k,'G'] * data.iloc[k,m]\n",
    "            \n",
    "            for n in range(22, 28):\n",
    "                data.iloc[i,n] += data.iloc[k,n]\n",
    "                \n",
    "            data.loc[i,'Salary'] += data.loc[k,'Salary']\n",
    "            \n",
    "            data = data.drop(data.index[k]).reset_index(drop=True)\n",
    "        \n",
    "        else:\n",
    "            k += 1\n",
    "            \n",
    "    for o in range(17, 22):\n",
    "        data.iloc[i,o] = data.iloc[i,o] / gamesum\n",
    "    \n",
    "    i += 1"
   ]
  },
  {
   "cell_type": "code",
   "execution_count": null,
   "metadata": {},
   "outputs": [],
   "source": [
    "data"
   ]
  },
  {
   "cell_type": "code",
   "execution_count": null,
   "metadata": {},
   "outputs": [],
   "source": [
    "data.shape"
   ]
  },
  {
   "cell_type": "code",
   "execution_count": null,
   "metadata": {},
   "outputs": [],
   "source": [
    "data.to_csv(\"data_preprocessing/data_preprocessing_2016.csv\")"
   ]
  },
  {
   "cell_type": "markdown",
   "metadata": {},
   "source": [
    "## 2017"
   ]
  },
  {
   "cell_type": "code",
   "execution_count": null,
   "metadata": {},
   "outputs": [],
   "source": [
    "data = pd.read_csv(\"data/stsal_2017.csv\")\n",
    "data.shape"
   ]
  },
  {
   "cell_type": "code",
   "execution_count": null,
   "metadata": {},
   "outputs": [],
   "source": [
    "data = data[lambda x: x.Salary > 0]\n",
    "data = data.reset_index(drop=True)\n",
    "\n",
    "data.shape"
   ]
  },
  {
   "cell_type": "code",
   "execution_count": null,
   "metadata": {},
   "outputs": [],
   "source": [
    "i = 0\n",
    "while i < len(data):\n",
    "    name = data.loc[i,'Name']\n",
    "    gamesum = g_sum(i)\n",
    "    \n",
    "    for j in range(17, 22):\n",
    "        data.iloc[i,j] = data.loc[i,'G'] * data.iloc[i,j]\n",
    "    \n",
    "    k = i + 1\n",
    "    while k < len(data):\n",
    "        if data.loc[k,'Name'] == name:\n",
    "            \n",
    "            if data.loc[k,'Tm'] not in data.loc[i,'Tm']:\n",
    "                data.loc[i,'Tm'] = data.loc[i,'Tm'] + \"/\" + data.loc[k,'Tm']\n",
    "            if data.loc[k,'Lg'] not in data.loc[i,'Lg']:\n",
    "                data.loc[i,'Lg'] = data.loc[i,'Lg'] + \"/\" + data.loc[k,'Lg']\n",
    "            \n",
    "            for l in range(4, 17):\n",
    "                data.iloc[i,l] += data.iloc[k,l]\n",
    "                \n",
    "            for m in range(17, 22):\n",
    "                data.iloc[i,m] += data.loc[k,'G'] * data.iloc[k,m]\n",
    "            \n",
    "            for n in range(22, 28):\n",
    "                data.iloc[i,n] += data.iloc[k,n]\n",
    "                \n",
    "            data.loc[i,'Salary'] += data.loc[k,'Salary']\n",
    "            \n",
    "            data = data.drop(data.index[k]).reset_index(drop=True)\n",
    "        \n",
    "        else:\n",
    "            k += 1\n",
    "            \n",
    "    for o in range(17, 22):\n",
    "        data.iloc[i,o] = data.iloc[i,o] / gamesum\n",
    "    \n",
    "    i += 1"
   ]
  },
  {
   "cell_type": "code",
   "execution_count": null,
   "metadata": {},
   "outputs": [],
   "source": [
    "data"
   ]
  },
  {
   "cell_type": "code",
   "execution_count": null,
   "metadata": {},
   "outputs": [],
   "source": [
    "data.shape"
   ]
  },
  {
   "cell_type": "code",
   "execution_count": null,
   "metadata": {},
   "outputs": [],
   "source": [
    "data.to_csv(\"data_preprocessing/data_preprocessing_2017.csv\")"
   ]
  },
  {
   "cell_type": "markdown",
   "metadata": {},
   "source": [
    "## 2018"
   ]
  },
  {
   "cell_type": "code",
   "execution_count": null,
   "metadata": {},
   "outputs": [],
   "source": [
    "data = pd.read_csv(\"data/stsal_2018.csv\")\n",
    "data.shape"
   ]
  },
  {
   "cell_type": "code",
   "execution_count": null,
   "metadata": {},
   "outputs": [],
   "source": [
    "data = data[lambda x: x.Salary > 0]\n",
    "data = data.reset_index(drop=True)\n",
    "\n",
    "data.shape"
   ]
  },
  {
   "cell_type": "code",
   "execution_count": null,
   "metadata": {},
   "outputs": [],
   "source": [
    "i = 0\n",
    "while i < len(data):\n",
    "    name = data.loc[i,'Name']\n",
    "    gamesum = g_sum(i)\n",
    "    \n",
    "    for j in range(17, 22):\n",
    "        data.iloc[i,j] = data.loc[i,'G'] * data.iloc[i,j]\n",
    "    \n",
    "    k = i + 1\n",
    "    while k < len(data):\n",
    "        if data.loc[k,'Name'] == name:\n",
    "            \n",
    "            if data.loc[k,'Tm'] not in data.loc[i,'Tm']:\n",
    "                data.loc[i,'Tm'] = data.loc[i,'Tm'] + \"/\" + data.loc[k,'Tm']\n",
    "            if data.loc[k,'Lg'] not in data.loc[i,'Lg']:\n",
    "                data.loc[i,'Lg'] = data.loc[i,'Lg'] + \"/\" + data.loc[k,'Lg']\n",
    "            \n",
    "            for l in range(4, 17):\n",
    "                data.iloc[i,l] += data.iloc[k,l]\n",
    "                \n",
    "            for m in range(17, 22):\n",
    "                data.iloc[i,m] += data.loc[k,'G'] * data.iloc[k,m]\n",
    "            \n",
    "            for n in range(22, 28):\n",
    "                data.iloc[i,n] += data.iloc[k,n]\n",
    "                \n",
    "            data.loc[i,'Salary'] += data.loc[k,'Salary']\n",
    "            \n",
    "            data = data.drop(data.index[k]).reset_index(drop=True)\n",
    "        \n",
    "        else:\n",
    "            k += 1\n",
    "            \n",
    "    for o in range(17, 22):\n",
    "        data.iloc[i,o] = data.iloc[i,o] / gamesum\n",
    "    \n",
    "    i += 1"
   ]
  },
  {
   "cell_type": "code",
   "execution_count": null,
   "metadata": {},
   "outputs": [],
   "source": [
    "data"
   ]
  },
  {
   "cell_type": "code",
   "execution_count": null,
   "metadata": {},
   "outputs": [],
   "source": [
    "data.shape"
   ]
  },
  {
   "cell_type": "code",
   "execution_count": null,
   "metadata": {},
   "outputs": [],
   "source": [
    "data.to_csv(\"data_preprocessing/data_preprocessing_2018.csv\")"
   ]
  },
  {
   "cell_type": "markdown",
   "metadata": {},
   "source": [
    "## 2019"
   ]
  },
  {
   "cell_type": "code",
   "execution_count": null,
   "metadata": {},
   "outputs": [],
   "source": [
    "data = pd.read_csv(\"data/stsal_2019.csv\", encoding = 'cp949')\n",
    "data.shape"
   ]
  },
  {
   "cell_type": "code",
   "execution_count": null,
   "metadata": {},
   "outputs": [],
   "source": [
    "data = data[lambda x: x.Salary > 0]\n",
    "data = data.reset_index(drop=True)\n",
    "\n",
    "data.shape"
   ]
  },
  {
   "cell_type": "code",
   "execution_count": null,
   "metadata": {},
   "outputs": [],
   "source": [
    "i = 0\n",
    "while i < len(data):\n",
    "    name = data.loc[i,'Name']\n",
    "    gamesum = g_sum(i)\n",
    "    \n",
    "    for j in range(17, 22):\n",
    "        data.iloc[i,j] = data.loc[i,'G'] * data.iloc[i,j]\n",
    "    \n",
    "    k = i + 1\n",
    "    while k < len(data):\n",
    "        if data.loc[k,'Name'] == name:\n",
    "            \n",
    "            if data.loc[k,'Tm'] not in data.loc[i,'Tm']:\n",
    "                data.loc[i,'Tm'] = data.loc[i,'Tm'] + \"/\" + data.loc[k,'Tm']\n",
    "            if data.loc[k,'Lg'] not in data.loc[i,'Lg']:\n",
    "                data.loc[i,'Lg'] = data.loc[i,'Lg'] + \"/\" + data.loc[k,'Lg']\n",
    "            \n",
    "            for l in range(4, 17):\n",
    "                data.iloc[i,l] += data.iloc[k,l]\n",
    "                \n",
    "            for m in range(17, 22):\n",
    "                data.iloc[i,m] += data.loc[k,'G'] * data.iloc[k,m]\n",
    "            \n",
    "            for n in range(22, 28):\n",
    "                data.iloc[i,n] += data.iloc[k,n]\n",
    "                \n",
    "            data.loc[i,'Salary'] += data.loc[k,'Salary']\n",
    "            \n",
    "            data = data.drop(data.index[k]).reset_index(drop=True)\n",
    "        \n",
    "        else:\n",
    "            k += 1\n",
    "            \n",
    "    for o in range(17, 22):\n",
    "        data.iloc[i,o] = data.iloc[i,o] / gamesum\n",
    "    \n",
    "    i += 1"
   ]
  },
  {
   "cell_type": "code",
   "execution_count": null,
   "metadata": {},
   "outputs": [],
   "source": [
    "data"
   ]
  },
  {
   "cell_type": "code",
   "execution_count": null,
   "metadata": {},
   "outputs": [],
   "source": [
    "data.shape"
   ]
  },
  {
   "cell_type": "code",
   "execution_count": null,
   "metadata": {},
   "outputs": [],
   "source": [
    "data.to_csv(\"data_preprocessing/data_preprocessing_2019.csv\", encoding='utf-8')"
   ]
  },
  {
   "cell_type": "code",
   "execution_count": null,
   "metadata": {},
   "outputs": [],
   "source": []
  }
 ],
 "metadata": {
  "kernelspec": {
   "display_name": "Python 3",
   "language": "python",
   "name": "python3"
  },
  "language_info": {
   "codemirror_mode": {
    "name": "ipython",
    "version": 3
   },
   "file_extension": ".py",
   "mimetype": "text/x-python",
   "name": "python",
   "nbconvert_exporter": "python",
   "pygments_lexer": "ipython3",
   "version": "3.7.3"
  }
 },
 "nbformat": 4,
 "nbformat_minor": 2
}
